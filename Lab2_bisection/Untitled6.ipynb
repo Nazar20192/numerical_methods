{
  "nbformat": 4,
  "nbformat_minor": 0,
  "metadata": {
    "colab": {
      "provenance": []
    },
    "kernelspec": {
      "name": "python3",
      "display_name": "Python 3"
    },
    "language_info": {
      "name": "python"
    }
  },
  "cells": [
    {
      "cell_type": "code",
      "execution_count": 1,
      "metadata": {
        "colab": {
          "base_uri": "https://localhost:8080/"
        },
        "id": "OY58N7RT7Ej5",
        "outputId": "dc201c2b-8d34-4809-b6fa-a6675203ba8f"
      },
      "outputs": [
        {
          "output_type": "stream",
          "name": "stdout",
          "text": [
            "The approximate root is: 1.6717004776000977\n",
            "f(1.6717004776000977) = 4.400290364081627e-06\n"
          ]
        }
      ],
      "source": [
        "def f(x):\n",
        "  \"\"\"Defines the function f(x) = x^3 - x - 3.\"\"\"\n",
        "  return x**3 - x - 3\n",
        "\n",
        "def bisection_method(a, b, tolerance=1e-6):\n",
        "  \"\"\"\n",
        "  Finds a root of the function f(x) using the bisection method.\n",
        "\n",
        "  Args:\n",
        "    a: The lower bound of the interval.\n",
        "    b: The upper bound of the interval.\n",
        "    tolerance: The desired accuracy of the root.\n",
        "\n",
        "  Returns:\n",
        "    The approximate root of the function within the given interval.\n",
        "    Returns None if the interval does not contain a root (f(a) and f(b) have the same sign).\n",
        "  \"\"\"\n",
        "  if f(a) * f(b) >= 0:\n",
        "    print(\"Bisection method fails.\")\n",
        "    return None\n",
        "\n",
        "  c = a\n",
        "  while (b - a) >= tolerance:\n",
        "    # Find middle point\n",
        "    c = (a + b) / 2\n",
        "\n",
        "    # Check if middle point is root\n",
        "    if f(c) == 0.0:\n",
        "      break\n",
        "\n",
        "    # Decide the side to repeat the steps\n",
        "    if f(c) * f(a) < 0:\n",
        "      b = c\n",
        "    else:\n",
        "      a = c\n",
        "\n",
        "  return c\n",
        "\n",
        "# Example usage:\n",
        "# Find an interval [a, b] where f(a) and f(b) have opposite signs\n",
        "# For f(x) = x^3 - x - 3, let's try some values\n",
        "# f(1) = 1 - 1 - 3 = -3\n",
        "# f(2) = 8 - 2 - 3 = 3\n",
        "# So, an interval [1, 2] works.\n",
        "\n",
        "a = 1\n",
        "b = 2\n",
        "root = bisection_method(a, b)\n",
        "\n",
        "if root is not None:\n",
        "  print(f\"The approximate root is: {root}\")\n",
        "  print(f\"f({root}) = {f(root)}\")"
      ]
    }
  ]
}