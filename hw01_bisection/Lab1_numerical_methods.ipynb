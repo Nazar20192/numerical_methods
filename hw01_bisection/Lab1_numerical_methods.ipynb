{
  "nbformat": 4,
  "nbformat_minor": 0,
  "metadata": {
    "colab": {
      "provenance": []
    },
    "kernelspec": {
      "name": "python3",
      "display_name": "Python 3"
    },
    "language_info": {
      "name": "python"
    }
  },
  "cells": [
    {
      "cell_type": "code",
      "execution_count": null,
      "metadata": {
        "colab": {
          "base_uri": "https://localhost:8080/"
        },
        "id": "t9-YA0l-TD3r",
        "outputId": "cf1b94b1-38cb-453c-aabe-4fae30cac980"
      },
      "outputs": [
        {
          "output_type": "stream",
          "name": "stdout",
         
          ]
        }
      ],
      "source": [
        "def guess_number_game():\n",
        "    \"\"\"\n",
        "    A number guessing game where the computer guesses a number\n",
        "    thought of by the user using the bisection method.\n",
        "    \"\"\"\n",
        "    print(\"Привіт! Давай зіграємо в гру вгадай число.\")\n",
        "    n = int(input(\"Задай верхню межу для загаданого числа (наприклад, 100): \"))\n",
        "\n",
        "    print(f\"Загадай ціле число від 1 до {n}. Натисни Enter, коли будеш готовий.\")\n",
        "    input()\n",
        "\n",
        "    low = 1\n",
        "    high = n\n",
        "    guesses = 0\n",
        "\n",
        "    while True:\n",
        "        guesses += 1\n",
        "        guess = (low + high) // 2\n",
        "        print(f\"Мій здогад: {guess}\")\n",
        "\n",
        "        response = input(\"Це твоє число? (так/більше/менше): \").lower()\n",
        "\n",
        "        if response == \"так\":\n",
        "            print(f\"Ура! Я вгадав твоє число за {guesses} спроб!\")\n",
        "            break\n",
        "        elif response == \"більше\":\n",
        "            low = guess + 1\n",
        "        elif response == \"менше\":\n",
        "            high = guess - 1\n",
        "        else:\n",
        "            print(\"Будь ласка, відповідай 'так', 'більше' або 'менше'.\")\n",
        "\n",
        "        if low > high:\n",
        "            print(\"Здається, ти помилився у відповідях. Спробуй ще раз.\")\n",
        "            break\n",
        "\n",
        "if __name__ == \"__main__\":\n",
        "    guess_number_game()"
      ]
    }
  ]
}
